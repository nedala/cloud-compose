{
 "cells": [
  {
   "cell_type": "code",
   "execution_count": null,
   "id": "78890c04-98bc-4fd8-9961-4fb414382c85",
   "metadata": {},
   "outputs": [],
   "source": [
    "import json\n",
    "import random\n",
    "import time\n",
    "\n",
    "from kafka import KafkaProducer\n",
    "\n",
    "producer = KafkaProducer(\n",
    "    compression_type=\"gzip\",\n",
    "    bootstrap_servers=\"kafka:9092\",\n",
    "    value_serializer=lambda v: json.dumps(v).encode(\"utf-8\"),\n",
    ")\n",
    "for _ in range(3600):\n",
    "    producer.send(\"stocks_trading_events\", {\"TICKER\": random.randint(10, 100)})\n",
    "    time.sleep(1)"
   ]
  }
 ],
 "metadata": {
  "kernelspec": {
   "display_name": "Python 3 (ipykernel)",
   "language": "python",
   "name": "python3"
  },
  "language_info": {
   "codemirror_mode": {
    "name": "ipython",
    "version": 3
   },
   "file_extension": ".py",
   "mimetype": "text/x-python",
   "name": "python",
   "nbconvert_exporter": "python",
   "pygments_lexer": "ipython3",
   "version": "3.9.16"
  }
 },
 "nbformat": 4,
 "nbformat_minor": 5
}
